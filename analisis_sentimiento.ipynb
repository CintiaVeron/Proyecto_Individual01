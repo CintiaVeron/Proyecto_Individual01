{
 "cells": [
  {
   "cell_type": "markdown",
   "metadata": {},
   "source": [
    "# Analisis de Sentimientos \n",
    "\n",
    "En el dataset user_reviews se incluyen reseñas de juegos hechos por distintos usuarios.\n",
    "Debemos crear la columna 'sentiment_analysis' aplicando análisis de sentimiento con NLP con la siguiente escala: debe tomar el valor '0' si es malo, '1' si es neutral y '2' si es positivo. Esta nueva columna debe reemplazar la de user_reviews.review para facilitar el trabajo de los modelos de machine learning y el análisis de datos. \n",
    "#De no ser posible este análisis por estar ausente la reseña escrita, debe tomar el valor de 1."
   ]
  },
  {
   "cell_type": "code",
   "execution_count": 1,
   "metadata": {},
   "outputs": [
    {
     "name": "stderr",
     "output_type": "stream",
     "text": [
      "[nltk_data] Downloading package vader_lexicon to\n",
      "[nltk_data]     C:\\Users\\CIN\\AppData\\Roaming\\nltk_data...\n",
      "[nltk_data]   Package vader_lexicon is already up-to-date!\n"
     ]
    },
    {
     "name": "stdout",
     "output_type": "stream",
     "text": [
      "<class 'pandas.core.frame.DataFrame'>\n",
      "RangeIndex: 48463 entries, 0 to 48462\n",
      "Data columns (total 5 columns):\n",
      " #   Column     Non-Null Count  Dtype \n",
      "---  ------     --------------  ----- \n",
      " 0   user_id    48463 non-null  object\n",
      " 1   posted     48463 non-null  int64 \n",
      " 2   item_id    48463 non-null  int64 \n",
      " 3   recommend  48463 non-null  bool  \n",
      " 4   review     48463 non-null  object\n",
      "dtypes: bool(1), int64(2), object(2)\n",
      "memory usage: 1.5+ MB\n"
     ]
    }
   ],
   "source": [
    "import pandas as pd\n",
    "from nltk.sentiment import SentimentIntensityAnalyzer\n",
    "import nltk\n",
    "nltk.download('vader_lexicon')  # Descarga el léxico VADER de NLTK si aún no está descargado\n",
    "\n",
    "# Cargo el archivo CSV de reseñas de usuarios\n",
    "user_reviews =pd.read_csv('user_reviews.csv')\n",
    "\n",
    "# Mostramos información sobre el DataFrame de reseñas de usuarios\n",
    "user_reviews.info()\n"
   ]
  },
  {
   "cell_type": "code",
   "execution_count": 2,
   "metadata": {},
   "outputs": [],
   "source": [
    "# Iniciamos el analizador de sentimientos de NLTK\n",
    "sia = SentimentIntensityAnalyzer()"
   ]
  },
  {
   "cell_type": "code",
   "execution_count": 4,
   "metadata": {},
   "outputs": [],
   "source": [
    "# Función para asignar valores de sentimiento a las reseñas\n",
    "def sentiment_analysis(text):\n",
    "    \"\"\"\n",
    "    Realiza un análisis de sentimiento en un texto dado y devuelve un valor numérico que representa la polaridad del sentimiento.\n",
    "\n",
    "    Argumentos:\n",
    "    text (str): El texto a analizar.\n",
    "\n",
    "    Retorna:\n",
    "    int: Un valor numérico que representa la polaridad del sentimiento. 0 para negativo, 1 para neutral y 2 para positivo.\n",
    "    \"\"\"\n",
    "    # Si la reseña está ausente, devolver 1 (neutral)\n",
    "    if pd.isnull(text):\n",
    "        return 1\n",
    "    # Realizar análisis de sentimiento y asignar valores de acuerdo a la polaridad\n",
    "    sentiment_score = sia.polarity_scores(text)['compound']\n",
    "    if sentiment_score >= 0.05:\n",
    "        return 2  # positivo\n",
    "    elif sentiment_score <= -0.05:\n",
    "        return 0  # negativo\n",
    "    else:\n",
    "        return 1  # neutral\n",
    "\n",
    "# Aplicar la función de análisis de sentimiento a la columna de reseñas\n",
    "user_reviews['sentiment_analysis'] = user_reviews['review'].apply(sentiment_analysis)\n",
    "\n",
    "# Eliminar la columna original de reseñas si se desea\n",
    "user_reviews.drop(columns=['review'], inplace=True)\n",
    "\n",
    "# Guardar el DataFrame actualizado\n",
    "user_reviews.to_csv('user_reviews_with_sentiment.csv', index=False)\n"
   ]
  }
 ],
 "metadata": {
  "kernelspec": {
   "display_name": "Python 3",
   "language": "python",
   "name": "python3"
  },
  "language_info": {
   "codemirror_mode": {
    "name": "ipython",
    "version": 3
   },
   "file_extension": ".py",
   "mimetype": "text/x-python",
   "name": "python",
   "nbconvert_exporter": "python",
   "pygments_lexer": "ipython3",
   "version": "3.11.0"
  }
 },
 "nbformat": 4,
 "nbformat_minor": 2
}

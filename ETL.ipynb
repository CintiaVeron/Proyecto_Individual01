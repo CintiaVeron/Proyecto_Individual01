{
 "cells": [
  {
   "cell_type": "code",
   "execution_count": 1,
   "metadata": {},
   "outputs": [],
   "source": [
    "#ETL \n",
    "\n",
    "\n",
    "#LEER ARCHIVOS JSON \n",
    "\n",
    "#funciones \n",
    "\n",
    "import ast\n",
    "import pandas as pd\n",
    "\n",
    "def leer_json(ruta_archivo):\n",
    "    \"\"\"\n",
    "    Carga un archivo JSON y devuelve un DataFrame.\n",
    "\n",
    "    Parameters:\n",
    "        ruta_archivo (str): La ruta al archivo JSON.\n",
    "\n",
    "    Returns:\n",
    "        pd.DataFrame: El DataFrame cargado desde el archivo JSON.\n",
    "    \"\"\"\n",
    "    filas = []\n",
    "\n",
    "    # Abrir el archivo en modo lectura con la codificación \"MacRoman\"\n",
    "    with open(ruta_archivo, encoding=\"MacRoman\") as archivo:\n",
    "        # Iterar sobre cada línea en el archivo\n",
    "        for linea in archivo.readlines():\n",
    "            # Evaluar la línea como una expresión de Python y agregarla a la lista\n",
    "            filas.append(ast.literal_eval(linea))\n",
    "\n",
    "    # Crear y devolver un DataFrame a partir de la lista de filas\n",
    "    return pd.DataFrame(filas)\n",
    "\n",
    "\n",
    "def desanidar_columna(df_entrada, columna_anidada):\n",
    "    \"\"\"\n",
    "    Expande una columna anidada en un DataFrame.\n",
    "\n",
    "    Parameters:\n",
    "    - df_entrada (pd.DataFrame): DataFrame de entrada con la columna anidada.\n",
    "    - columna_anidada (str): Nombre de la columna anidada que se va a expandir.\n",
    "\n",
    "    Returns:\n",
    "    pd.DataFrame: Nuevo DataFrame con la columna anidada expandida.\n",
    "    \"\"\"\n",
    "    # Inicializar una lista vacía para almacenar los registros expandidos.\n",
    "    registros_expandidos = []\n",
    "\n",
    "    # Iterar sobre cada fila del DataFrame de entrada.\n",
    "    for indice, fila in df_entrada.iterrows():\n",
    "        # Extraer los datos base de la fila eliminando la columna anidada y convirtiéndolos a un diccionario.\n",
    "        datos_base = fila.drop(columna_anidada).to_dict()\n",
    "        # Obtener la lista de datos anidados de la columna especificada.\n",
    "        datos_anidados_lista = fila[columna_anidada]\n",
    "\n",
    "        # Iterar sobre cada conjunto de datos anidados.\n",
    "        for datos_anidados in datos_anidados_lista:\n",
    "            # Crear un nuevo registro combinando los datos base y los datos anidados.\n",
    "            nuevo_registro = {**datos_base, **datos_anidados}\n",
    "            # Agregar el nuevo registro a la lista de registros_expandidos.\n",
    "            registros_expandidos.append(nuevo_registro)\n",
    "\n",
    "    # Crear un nuevo DataFrame a partir de la lista de registros_expandidos y devolverlo.\n",
    "    df_expandido = pd.DataFrame(registros_expandidos)\n",
    "    return df_expandido\n",
    "\n"
   ]
  },
  {
   "cell_type": "code",
   "execution_count": 3,
   "metadata": {},
   "outputs": [
    {
     "ename": "FileNotFoundError",
     "evalue": "[Errno 2] No such file or directory: 'australian_users_items.json'",
     "output_type": "error",
     "traceback": [
      "\u001b[1;31m---------------------------------------------------------------------------\u001b[0m",
      "\u001b[1;31mFileNotFoundError\u001b[0m                         Traceback (most recent call last)",
      "Cell \u001b[1;32mIn[3], line 7\u001b[0m\n\u001b[0;32m      4\u001b[0m ruta_json \u001b[38;5;241m=\u001b[39m\u001b[38;5;124m'\u001b[39m\u001b[38;5;124maustralian_users_items.json\u001b[39m\u001b[38;5;124m'\u001b[39m\n\u001b[0;32m      6\u001b[0m \u001b[38;5;66;03m# Cargar el archivo JSON en un DataFrame\u001b[39;00m\n\u001b[1;32m----> 7\u001b[0m df_user_items \u001b[38;5;241m=\u001b[39m \u001b[43mleer_json\u001b[49m\u001b[43m(\u001b[49m\u001b[43mruta_json\u001b[49m\u001b[43m)\u001b[49m\n\u001b[0;32m      9\u001b[0m \u001b[38;5;66;03m# Expandir los diccionarios en varias filas\u001b[39;00m\n\u001b[0;32m     10\u001b[0m df_user_items \u001b[38;5;241m=\u001b[39m desanidar_columna(df_user_items, \u001b[38;5;124m\"\u001b[39m\u001b[38;5;124mitems\u001b[39m\u001b[38;5;124m\"\u001b[39m)\n",
      "Cell \u001b[1;32mIn[1], line 24\u001b[0m, in \u001b[0;36mleer_json\u001b[1;34m(ruta_archivo)\u001b[0m\n\u001b[0;32m     21\u001b[0m filas \u001b[38;5;241m=\u001b[39m []\n\u001b[0;32m     23\u001b[0m \u001b[38;5;66;03m# Abrir el archivo en modo lectura con la codificación \"MacRoman\"\u001b[39;00m\n\u001b[1;32m---> 24\u001b[0m \u001b[38;5;28;01mwith\u001b[39;00m \u001b[38;5;28;43mopen\u001b[39;49m\u001b[43m(\u001b[49m\u001b[43mruta_archivo\u001b[49m\u001b[43m,\u001b[49m\u001b[43m \u001b[49m\u001b[43mencoding\u001b[49m\u001b[38;5;241;43m=\u001b[39;49m\u001b[38;5;124;43m\"\u001b[39;49m\u001b[38;5;124;43mMacRoman\u001b[39;49m\u001b[38;5;124;43m\"\u001b[39;49m\u001b[43m)\u001b[49m \u001b[38;5;28;01mas\u001b[39;00m archivo:\n\u001b[0;32m     25\u001b[0m     \u001b[38;5;66;03m# Iterar sobre cada línea en el archivo\u001b[39;00m\n\u001b[0;32m     26\u001b[0m     \u001b[38;5;28;01mfor\u001b[39;00m linea \u001b[38;5;129;01min\u001b[39;00m archivo\u001b[38;5;241m.\u001b[39mreadlines():\n\u001b[0;32m     27\u001b[0m         \u001b[38;5;66;03m# Evaluar la línea como una expresión de Python y agregarla a la lista\u001b[39;00m\n\u001b[0;32m     28\u001b[0m         filas\u001b[38;5;241m.\u001b[39mappend(ast\u001b[38;5;241m.\u001b[39mliteral_eval(linea))\n",
      "File \u001b[1;32m~\\AppData\\Roaming\\Python\\Python311\\site-packages\\IPython\\core\\interactiveshell.py:284\u001b[0m, in \u001b[0;36m_modified_open\u001b[1;34m(file, *args, **kwargs)\u001b[0m\n\u001b[0;32m    277\u001b[0m \u001b[38;5;28;01mif\u001b[39;00m file \u001b[38;5;129;01min\u001b[39;00m {\u001b[38;5;241m0\u001b[39m, \u001b[38;5;241m1\u001b[39m, \u001b[38;5;241m2\u001b[39m}:\n\u001b[0;32m    278\u001b[0m     \u001b[38;5;28;01mraise\u001b[39;00m \u001b[38;5;167;01mValueError\u001b[39;00m(\n\u001b[0;32m    279\u001b[0m         \u001b[38;5;124mf\u001b[39m\u001b[38;5;124m\"\u001b[39m\u001b[38;5;124mIPython won\u001b[39m\u001b[38;5;124m'\u001b[39m\u001b[38;5;124mt let you open fd=\u001b[39m\u001b[38;5;132;01m{\u001b[39;00mfile\u001b[38;5;132;01m}\u001b[39;00m\u001b[38;5;124m by default \u001b[39m\u001b[38;5;124m\"\u001b[39m\n\u001b[0;32m    280\u001b[0m         \u001b[38;5;124m\"\u001b[39m\u001b[38;5;124mas it is likely to crash IPython. If you know what you are doing, \u001b[39m\u001b[38;5;124m\"\u001b[39m\n\u001b[0;32m    281\u001b[0m         \u001b[38;5;124m\"\u001b[39m\u001b[38;5;124myou can use builtins\u001b[39m\u001b[38;5;124m'\u001b[39m\u001b[38;5;124m open.\u001b[39m\u001b[38;5;124m\"\u001b[39m\n\u001b[0;32m    282\u001b[0m     )\n\u001b[1;32m--> 284\u001b[0m \u001b[38;5;28;01mreturn\u001b[39;00m \u001b[43mio_open\u001b[49m\u001b[43m(\u001b[49m\u001b[43mfile\u001b[49m\u001b[43m,\u001b[49m\u001b[43m \u001b[49m\u001b[38;5;241;43m*\u001b[39;49m\u001b[43margs\u001b[49m\u001b[43m,\u001b[49m\u001b[43m \u001b[49m\u001b[38;5;241;43m*\u001b[39;49m\u001b[38;5;241;43m*\u001b[39;49m\u001b[43mkwargs\u001b[49m\u001b[43m)\u001b[49m\n",
      "\u001b[1;31mFileNotFoundError\u001b[0m: [Errno 2] No such file or directory: 'australian_users_items.json'"
     ]
    }
   ],
   "source": [
    "#leer archivo items\n",
    "\n",
    "# Ruta del archivo JSON\n",
    "ruta_json ='australian_users_items.json'\n",
    "\n",
    "# Cargar el archivo JSON en un DataFrame\n",
    "df_user_items = leer_json(ruta_json)\n",
    "\n",
    "# Expandir los diccionarios en varias filas\n",
    "df_user_items = desanidar_columna(df_user_items, \"items\")\n",
    "df_user_items.head()"
   ]
  },
  {
   "cell_type": "code",
   "execution_count": 5,
   "metadata": {},
   "outputs": [
    {
     "data": {
      "text/plain": [
       "user_id             0\n",
       "items_count         0\n",
       "steam_id            0\n",
       "user_url            0\n",
       "item_id             0\n",
       "item_name           0\n",
       "playtime_forever    0\n",
       "playtime_2weeks     0\n",
       "dtype: int64"
      ]
     },
     "execution_count": 5,
     "metadata": {},
     "output_type": "execute_result"
    }
   ],
   "source": [
    "#ver valores nulos \n",
    "df_user_items.isnull().sum()"
   ]
  },
  {
   "cell_type": "code",
   "execution_count": 6,
   "metadata": {},
   "outputs": [
    {
     "data": {
      "text/plain": [
       "(5094105, 8)"
      ]
     },
     "execution_count": 6,
     "metadata": {},
     "output_type": "execute_result"
    }
   ],
   "source": [
    "#revisar duplicados\n",
    "df_user_items.drop_duplicates(inplace=True)\n",
    "df_user_items.shape"
   ]
  },
  {
   "cell_type": "code",
   "execution_count": 7,
   "metadata": {},
   "outputs": [],
   "source": [
    "#eliminar columnas innecesarias\n",
    "df_user_items= df_user_items.drop(['steam_id', 'playtime_2weeks'], axis=1)"
   ]
  },
  {
   "cell_type": "code",
   "execution_count": 8,
   "metadata": {},
   "outputs": [],
   "source": [
    "#Guardamos el dataframe en formato csv para su posterior uso\n",
    "\n",
    "df_user_items.to_parquet('user_items.parquet', index=False)"
   ]
  },
  {
   "cell_type": "code",
   "execution_count": 9,
   "metadata": {},
   "outputs": [
    {
     "data": {
      "text/html": [
       "<div>\n",
       "<style scoped>\n",
       "    .dataframe tbody tr th:only-of-type {\n",
       "        vertical-align: middle;\n",
       "    }\n",
       "\n",
       "    .dataframe tbody tr th {\n",
       "        vertical-align: top;\n",
       "    }\n",
       "\n",
       "    .dataframe thead th {\n",
       "        text-align: right;\n",
       "    }\n",
       "</style>\n",
       "<table border=\"1\" class=\"dataframe\">\n",
       "  <thead>\n",
       "    <tr style=\"text-align: right;\">\n",
       "      <th></th>\n",
       "      <th>user_id</th>\n",
       "      <th>user_url</th>\n",
       "      <th>funny</th>\n",
       "      <th>posted</th>\n",
       "      <th>last_edited</th>\n",
       "      <th>item_id</th>\n",
       "      <th>helpful</th>\n",
       "      <th>recommend</th>\n",
       "      <th>review</th>\n",
       "    </tr>\n",
       "  </thead>\n",
       "  <tbody>\n",
       "    <tr>\n",
       "      <th>0</th>\n",
       "      <td>76561197970982479</td>\n",
       "      <td>http://steamcommunity.com/profiles/76561197970...</td>\n",
       "      <td></td>\n",
       "      <td>Posted November 5, 2011.</td>\n",
       "      <td></td>\n",
       "      <td>1250</td>\n",
       "      <td>No ratings yet</td>\n",
       "      <td>True</td>\n",
       "      <td>Simple yet with great replayability. In my opi...</td>\n",
       "    </tr>\n",
       "    <tr>\n",
       "      <th>1</th>\n",
       "      <td>76561197970982479</td>\n",
       "      <td>http://steamcommunity.com/profiles/76561197970...</td>\n",
       "      <td></td>\n",
       "      <td>Posted July 15, 2011.</td>\n",
       "      <td></td>\n",
       "      <td>22200</td>\n",
       "      <td>No ratings yet</td>\n",
       "      <td>True</td>\n",
       "      <td>It's unique and worth a playthrough.</td>\n",
       "    </tr>\n",
       "    <tr>\n",
       "      <th>2</th>\n",
       "      <td>76561197970982479</td>\n",
       "      <td>http://steamcommunity.com/profiles/76561197970...</td>\n",
       "      <td></td>\n",
       "      <td>Posted April 21, 2011.</td>\n",
       "      <td></td>\n",
       "      <td>43110</td>\n",
       "      <td>No ratings yet</td>\n",
       "      <td>True</td>\n",
       "      <td>Great atmosphere. The gunplay can be a bit chu...</td>\n",
       "    </tr>\n",
       "    <tr>\n",
       "      <th>3</th>\n",
       "      <td>js41637</td>\n",
       "      <td>http://steamcommunity.com/id/js41637</td>\n",
       "      <td></td>\n",
       "      <td>Posted June 24, 2014.</td>\n",
       "      <td></td>\n",
       "      <td>251610</td>\n",
       "      <td>15 of 20 people (75%) found this review helpful</td>\n",
       "      <td>True</td>\n",
       "      <td>I know what you think when you see this title ...</td>\n",
       "    </tr>\n",
       "    <tr>\n",
       "      <th>4</th>\n",
       "      <td>js41637</td>\n",
       "      <td>http://steamcommunity.com/id/js41637</td>\n",
       "      <td></td>\n",
       "      <td>Posted September 8, 2013.</td>\n",
       "      <td></td>\n",
       "      <td>227300</td>\n",
       "      <td>0 of 1 people (0%) found this review helpful</td>\n",
       "      <td>True</td>\n",
       "      <td>For a simple (it's actually not all that simpl...</td>\n",
       "    </tr>\n",
       "  </tbody>\n",
       "</table>\n",
       "</div>"
      ],
      "text/plain": [
       "             user_id                                           user_url funny   \n",
       "0  76561197970982479  http://steamcommunity.com/profiles/76561197970...        \\\n",
       "1  76561197970982479  http://steamcommunity.com/profiles/76561197970...         \n",
       "2  76561197970982479  http://steamcommunity.com/profiles/76561197970...         \n",
       "3            js41637               http://steamcommunity.com/id/js41637         \n",
       "4            js41637               http://steamcommunity.com/id/js41637         \n",
       "\n",
       "                      posted last_edited item_id   \n",
       "0   Posted November 5, 2011.                1250  \\\n",
       "1      Posted July 15, 2011.               22200   \n",
       "2     Posted April 21, 2011.               43110   \n",
       "3      Posted June 24, 2014.              251610   \n",
       "4  Posted September 8, 2013.              227300   \n",
       "\n",
       "                                           helpful  recommend   \n",
       "0                                   No ratings yet       True  \\\n",
       "1                                   No ratings yet       True   \n",
       "2                                   No ratings yet       True   \n",
       "3  15 of 20 people (75%) found this review helpful       True   \n",
       "4     0 of 1 people (0%) found this review helpful       True   \n",
       "\n",
       "                                              review  \n",
       "0  Simple yet with great replayability. In my opi...  \n",
       "1               It's unique and worth a playthrough.  \n",
       "2  Great atmosphere. The gunplay can be a bit chu...  \n",
       "3  I know what you think when you see this title ...  \n",
       "4  For a simple (it's actually not all that simpl...  "
      ]
     },
     "execution_count": 9,
     "metadata": {},
     "output_type": "execute_result"
    }
   ],
   "source": [
    "#leer archivo reviews\n",
    "\n",
    "# Ruta del archivo JSON\n",
    "ruta_json ='australian_user_reviews.json'\n",
    "\n",
    "# Cargar el archivo JSON en un DataFrame\n",
    "df_user_reviews = leer_json(ruta_json)\n",
    "\n",
    "# Expandir los diccionarios en varias filas\n",
    "df_user_reviews = desanidar_columna(df_user_reviews, \"reviews\")\n",
    "df_user_reviews.head()"
   ]
  },
  {
   "cell_type": "code",
   "execution_count": 10,
   "metadata": {},
   "outputs": [
    {
     "name": "stdout",
     "output_type": "stream",
     "text": [
      "<class 'pandas.core.frame.DataFrame'>\n",
      "RangeIndex: 59305 entries, 0 to 59304\n",
      "Data columns (total 9 columns):\n",
      " #   Column       Non-Null Count  Dtype \n",
      "---  ------       --------------  ----- \n",
      " 0   user_id      59305 non-null  object\n",
      " 1   user_url     59305 non-null  object\n",
      " 2   funny        59305 non-null  object\n",
      " 3   posted       59305 non-null  object\n",
      " 4   last_edited  59305 non-null  object\n",
      " 5   item_id      59305 non-null  object\n",
      " 6   helpful      59305 non-null  object\n",
      " 7   recommend    59305 non-null  bool  \n",
      " 8   review       59305 non-null  object\n",
      "dtypes: bool(1), object(8)\n",
      "memory usage: 3.7+ MB\n"
     ]
    }
   ],
   "source": [
    "df_user_reviews.info()"
   ]
  },
  {
   "cell_type": "code",
   "execution_count": 11,
   "metadata": {},
   "outputs": [
    {
     "data": {
      "text/plain": [
       "user_id        0\n",
       "user_url       0\n",
       "funny          0\n",
       "posted         0\n",
       "last_edited    0\n",
       "item_id        0\n",
       "helpful        0\n",
       "recommend      0\n",
       "review         0\n",
       "dtype: int64"
      ]
     },
     "execution_count": 11,
     "metadata": {},
     "output_type": "execute_result"
    }
   ],
   "source": [
    "##ver nulos\n",
    "\n",
    "\n",
    "df_user_reviews.isnull().sum()"
   ]
  },
  {
   "cell_type": "code",
   "execution_count": 12,
   "metadata": {},
   "outputs": [
    {
     "data": {
      "text/plain": [
       "(58431, 9)"
      ]
     },
     "execution_count": 12,
     "metadata": {},
     "output_type": "execute_result"
    }
   ],
   "source": [
    "#ver duplicados \n",
    "\n",
    "#revisar y eliminar  duplicados\n",
    "df_user_reviews.drop_duplicates(inplace=True)\n",
    "df_user_reviews.shape"
   ]
  },
  {
   "cell_type": "code",
   "execution_count": 13,
   "metadata": {},
   "outputs": [
    {
     "name": "stdout",
     "output_type": "stream",
     "text": [
      "0                   2011\n",
      "1                   2011\n",
      "2                   2011\n",
      "3                   2014\n",
      "4                   2013\n",
      "              ...       \n",
      "59300    Posted July 10.\n",
      "59301     Posted July 8.\n",
      "59302     Posted July 3.\n",
      "59303    Posted July 20.\n",
      "59304     Posted July 2.\n",
      "Name: posted, Length: 58431, dtype: object\n"
     ]
    }
   ],
   "source": [
    "# extraer el año de columna Posted\n",
    "\n",
    "#extraer año de posteo \n",
    "\n",
    "df_user_reviews['posted'] =df_user_reviews['posted'].str.replace(r'.*?(\\d{4}).*', r'\\1', regex=True)\n",
    "\n",
    "# Ahora, la columna 'posted' contiene solo el año\n",
    "\n",
    "print(df_user_reviews['posted'])"
   ]
  },
  {
   "cell_type": "code",
   "execution_count": 14,
   "metadata": {},
   "outputs": [
    {
     "name": "stdout",
     "output_type": "stream",
     "text": [
      "0        2011\n",
      "1        2011\n",
      "2        2011\n",
      "3        2014\n",
      "4        2013\n",
      "         ... \n",
      "59300       0\n",
      "59301       0\n",
      "59302       0\n",
      "59303       0\n",
      "59304       0\n",
      "Name: posted, Length: 58431, dtype: object\n"
     ]
    }
   ],
   "source": [
    "import re\n",
    "# como se puede visualizar hay registros que no contienen el año de posteo por lo que no se  han transformado y reemplazarlos por el valor 0\n",
    "\n",
    "# Definir una expresión regular para verificar si un valor es un año numérico\n",
    "regex_pattern = r'^\\d{4}$'\n",
    "\n",
    "# Marcar los valores que no son años numéricos con 0\n",
    "df_user_reviews['posted'] = df_user_reviews['posted'].apply(lambda x: 0 if not str(x).strip().replace('.', '').isdigit() and not bool(re.match(regex_pattern, str(x))) else x)\n",
    "\n",
    "# Verificar el contenido actual de la columna 'posted'\n",
    "print(df_user_reviews['posted'])"
   ]
  },
  {
   "cell_type": "code",
   "execution_count": 15,
   "metadata": {},
   "outputs": [
    {
     "name": "stdout",
     "output_type": "stream",
     "text": [
      "0        2011\n",
      "1        2011\n",
      "2        2011\n",
      "3        2014\n",
      "4        2013\n",
      "         ... \n",
      "59252    2015\n",
      "59255    2015\n",
      "59265    2015\n",
      "59267    2015\n",
      "59276    2015\n",
      "Name: posted, Length: 48498, dtype: object\n"
     ]
    }
   ],
   "source": [
    "##eliminar filas con año 0 ya que no nos serviria para nuestra consulta posterior\n",
    "\n",
    "# Eliminar filas donde el año es igual a 0\n",
    "df_user_reviews= df_user_reviews[df_user_reviews['posted'] != 0]\n",
    "print(df_user_reviews['posted'])"
   ]
  },
  {
   "cell_type": "code",
   "execution_count": 16,
   "metadata": {},
   "outputs": [
    {
     "name": "stdout",
     "output_type": "stream",
     "text": [
      "0        Simple yet with great replayability. In my opi...\n",
      "1                     It's unique and worth a playthrough.\n",
      "2        Great atmosphere. The gunplay can be a bit chu...\n",
      "3        I know what you think when you see this title ...\n",
      "4        For a simple (it's actually not all that simpl...\n",
      "                               ...                        \n",
      "59252                                       its FUNNNNNNNN\n",
      "59255    Awesome fantasy game if you don't mind the gra...\n",
      "59265                                     Prettyy Mad Game\n",
      "59267                                   AMAZING GAME 10/10\n",
      "59276    Why I voted yes? 1. Girl characters have boobs...\n",
      "Name: review, Length: 48498, dtype: object\n"
     ]
    }
   ],
   "source": [
    "#eliminar filas sin reviews\n",
    "print(df_user_reviews['review'])"
   ]
  },
  {
   "cell_type": "code",
   "execution_count": 17,
   "metadata": {},
   "outputs": [
    {
     "name": "stdout",
     "output_type": "stream",
     "text": [
      "\n",
      "Cantidad de filas con texto vacío en la columna 'review': 35\n"
     ]
    }
   ],
   "source": [
    "# Contar cuántas filas tienen texto vacío en la columna 'Review'\n",
    "filas_con_texto_vacio = df_user_reviews['review'].str.strip().eq('')\n",
    "cantidad_filas_vacias = filas_con_texto_vacio.sum()\n",
    "\n",
    "# Mostrar la cantidad de filas con texto vacío en la columna 'Review'\n",
    "print(\"\\nCantidad de filas con texto vacío en la columna 'review':\", cantidad_filas_vacias)"
   ]
  },
  {
   "cell_type": "code",
   "execution_count": 18,
   "metadata": {},
   "outputs": [
    {
     "name": "stdout",
     "output_type": "stream",
     "text": [
      "             user_id                                           user_url funny   \n",
      "0  76561197970982479  http://steamcommunity.com/profiles/76561197970...        \\\n",
      "1  76561197970982479  http://steamcommunity.com/profiles/76561197970...         \n",
      "\n",
      "  posted last_edited item_id         helpful  recommend   \n",
      "0   2011                1250  No ratings yet       True  \\\n",
      "1   2011               22200  No ratings yet       True   \n",
      "\n",
      "                                              review  \n",
      "0  Simple yet with great replayability. In my opi...  \n",
      "1               It's unique and worth a playthrough.  \n"
     ]
    }
   ],
   "source": [
    "# Eliminar las filas que contienen texto vacío en la columna 'Review'\n",
    "df_user_reviews_final= df_user_reviews[~filas_con_texto_vacio]\n",
    "\n",
    "# Mostrar el DataFrame después de eliminar las filas con texto vacío en la columna 'Review'\n",
    "\n",
    "print(df_user_reviews_final.head(2))"
   ]
  },
  {
   "cell_type": "code",
   "execution_count": 19,
   "metadata": {},
   "outputs": [
    {
     "name": "stderr",
     "output_type": "stream",
     "text": [
      "C:\\Users\\CIN\\AppData\\Local\\Temp\\ipykernel_2948\\2360318052.py:3: SettingWithCopyWarning: \n",
      "A value is trying to be set on a copy of a slice from a DataFrame\n",
      "\n",
      "See the caveats in the documentation: https://pandas.pydata.org/pandas-docs/stable/user_guide/indexing.html#returning-a-view-versus-a-copy\n",
      "  df_user_reviews_final.drop(columns=['user_url', 'funny', 'last_edited', 'helpful'], axis=1,inplace=True)\n"
     ]
    }
   ],
   "source": [
    "#eliminamos columnas innecesarias \n",
    "\n",
    "df_user_reviews_final.drop(columns=['user_url', 'funny', 'last_edited', 'helpful'], axis=1,inplace=True)"
   ]
  },
  {
   "cell_type": "code",
   "execution_count": 20,
   "metadata": {},
   "outputs": [
    {
     "name": "stdout",
     "output_type": "stream",
     "text": [
      "<class 'pandas.core.frame.DataFrame'>\n",
      "Index: 48463 entries, 0 to 59276\n",
      "Data columns (total 5 columns):\n",
      " #   Column     Non-Null Count  Dtype \n",
      "---  ------     --------------  ----- \n",
      " 0   user_id    48463 non-null  object\n",
      " 1   posted     48463 non-null  object\n",
      " 2   item_id    48463 non-null  object\n",
      " 3   recommend  48463 non-null  bool  \n",
      " 4   review     48463 non-null  object\n",
      "dtypes: bool(1), object(4)\n",
      "memory usage: 1.9+ MB\n"
     ]
    }
   ],
   "source": [
    "df_user_reviews_final.info()"
   ]
  },
  {
   "cell_type": "code",
   "execution_count": 21,
   "metadata": {},
   "outputs": [],
   "source": [
    "#convertimos a csv\n",
    "df_user_reviews_final.to_csv('user_reviews.csv', index=False)"
   ]
  },
  {
   "cell_type": "code",
   "execution_count": 22,
   "metadata": {},
   "outputs": [
    {
     "name": "stdout",
     "output_type": "stream",
     "text": [
      "<class 'pandas.core.frame.DataFrame'>\n",
      "RangeIndex: 120445 entries, 0 to 120444\n",
      "Data columns (total 13 columns):\n",
      " #   Column        Non-Null Count  Dtype \n",
      "---  ------        --------------  ----- \n",
      " 0   publisher     24083 non-null  object\n",
      " 1   genres        28852 non-null  object\n",
      " 2   app_name      32133 non-null  object\n",
      " 3   title         30085 non-null  object\n",
      " 4   url           32135 non-null  object\n",
      " 5   release_date  30068 non-null  object\n",
      " 6   tags          31972 non-null  object\n",
      " 7   reviews_url   32133 non-null  object\n",
      " 8   specs         31465 non-null  object\n",
      " 9   price         30758 non-null  object\n",
      " 10  early_access  32135 non-null  object\n",
      " 11  id            32133 non-null  object\n",
      " 12  developer     28836 non-null  object\n",
      "dtypes: object(13)\n",
      "memory usage: 11.9+ MB\n"
     ]
    }
   ],
   "source": [
    "#Leemos el archivo output_steam_games\n",
    "import pandas as pd\n",
    "import json\n",
    "\n",
    "\n",
    "steams_games=[]\n",
    "with open('output_steam_games.json', 'r') as file:\n",
    "    for line in file:\n",
    "        k = json.loads(line)\n",
    "        steams_games.append(k)\n",
    "\n",
    "\n",
    "df_steam_games = pd.DataFrame(steams_games)\n",
    "\n",
    "df_steam_games.info()"
   ]
  },
  {
   "cell_type": "code",
   "execution_count": 23,
   "metadata": {},
   "outputs": [
    {
     "name": "stdout",
     "output_type": "stream",
     "text": [
      "publisher       96362\n",
      "genres          91593\n",
      "app_name        88312\n",
      "title           90360\n",
      "url             88310\n",
      "release_date    90377\n",
      "tags            88473\n",
      "reviews_url     88312\n",
      "specs           88980\n",
      "price           89687\n",
      "early_access    88310\n",
      "id              88312\n",
      "developer       91609\n",
      "dtype: int64\n"
     ]
    }
   ],
   "source": [
    "##verificamos cuantos registros nulos hay\n",
    "num_nulos_por_columna = df_steam_games.isnull().sum()\n",
    "print(num_nulos_por_columna)"
   ]
  },
  {
   "cell_type": "code",
   "execution_count": 24,
   "metadata": {},
   "outputs": [
    {
     "name": "stdout",
     "output_type": "stream",
     "text": [
      "Número de filas con nulos en todas sus columnas: 88310\n"
     ]
    }
   ],
   "source": [
    "# Calcula el número de filas con nulos en todas sus columnas\n",
    "num_filas_con_nulos_en_todas_las_columnas = df_steam_games.isnull().all(axis=1).sum()\n",
    "\n",
    "# Muestra el número de filas con nulos en todas sus columnas\n",
    "print(\"Número de filas con nulos en todas sus columnas:\", num_filas_con_nulos_en_todas_las_columnas)"
   ]
  },
  {
   "cell_type": "code",
   "execution_count": 25,
   "metadata": {},
   "outputs": [
    {
     "name": "stdout",
     "output_type": "stream",
     "text": [
      "Información del DataFrame después de eliminar filas y columnas nulas:\n",
      "<class 'pandas.core.frame.DataFrame'>\n",
      "Index: 22530 entries, 88310 to 120443\n",
      "Data columns (total 13 columns):\n",
      " #   Column        Non-Null Count  Dtype \n",
      "---  ------        --------------  ----- \n",
      " 0   publisher     22530 non-null  object\n",
      " 1   genres        22530 non-null  object\n",
      " 2   app_name      22530 non-null  object\n",
      " 3   title         22530 non-null  object\n",
      " 4   url           22530 non-null  object\n",
      " 5   release_date  22530 non-null  object\n",
      " 6   tags          22530 non-null  object\n",
      " 7   reviews_url   22530 non-null  object\n",
      " 8   specs         22530 non-null  object\n",
      " 9   price         22530 non-null  object\n",
      " 10  early_access  22530 non-null  object\n",
      " 11  id            22530 non-null  object\n",
      " 12  developer     22530 non-null  object\n",
      "dtypes: object(13)\n",
      "memory usage: 2.4+ MB\n",
      "None\n"
     ]
    },
    {
     "data": {
      "text/html": [
       "<div>\n",
       "<style scoped>\n",
       "    .dataframe tbody tr th:only-of-type {\n",
       "        vertical-align: middle;\n",
       "    }\n",
       "\n",
       "    .dataframe tbody tr th {\n",
       "        vertical-align: top;\n",
       "    }\n",
       "\n",
       "    .dataframe thead th {\n",
       "        text-align: right;\n",
       "    }\n",
       "</style>\n",
       "<table border=\"1\" class=\"dataframe\">\n",
       "  <thead>\n",
       "    <tr style=\"text-align: right;\">\n",
       "      <th></th>\n",
       "      <th>publisher</th>\n",
       "      <th>genres</th>\n",
       "      <th>app_name</th>\n",
       "      <th>title</th>\n",
       "      <th>url</th>\n",
       "      <th>release_date</th>\n",
       "      <th>tags</th>\n",
       "      <th>reviews_url</th>\n",
       "      <th>specs</th>\n",
       "      <th>price</th>\n",
       "      <th>early_access</th>\n",
       "      <th>id</th>\n",
       "      <th>developer</th>\n",
       "    </tr>\n",
       "  </thead>\n",
       "  <tbody>\n",
       "    <tr>\n",
       "      <th>88310</th>\n",
       "      <td>Kotoshiro</td>\n",
       "      <td>[Action, Casual, Indie, Simulation, Strategy]</td>\n",
       "      <td>Lost Summoner Kitty</td>\n",
       "      <td>Lost Summoner Kitty</td>\n",
       "      <td>http://store.steampowered.com/app/761140/Lost_...</td>\n",
       "      <td>2018-01-04</td>\n",
       "      <td>[Strategy, Action, Indie, Casual, Simulation]</td>\n",
       "      <td>http://steamcommunity.com/app/761140/reviews/?...</td>\n",
       "      <td>[Single-player]</td>\n",
       "      <td>4.99</td>\n",
       "      <td>False</td>\n",
       "      <td>761140</td>\n",
       "      <td>Kotoshiro</td>\n",
       "    </tr>\n",
       "    <tr>\n",
       "      <th>88311</th>\n",
       "      <td>Making Fun, Inc.</td>\n",
       "      <td>[Free to Play, Indie, RPG, Strategy]</td>\n",
       "      <td>Ironbound</td>\n",
       "      <td>Ironbound</td>\n",
       "      <td>http://store.steampowered.com/app/643980/Ironb...</td>\n",
       "      <td>2018-01-04</td>\n",
       "      <td>[Free to Play, Strategy, Indie, RPG, Card Game...</td>\n",
       "      <td>http://steamcommunity.com/app/643980/reviews/?...</td>\n",
       "      <td>[Single-player, Multi-player, Online Multi-Pla...</td>\n",
       "      <td>Free To Play</td>\n",
       "      <td>False</td>\n",
       "      <td>643980</td>\n",
       "      <td>Secret Level SRL</td>\n",
       "    </tr>\n",
       "    <tr>\n",
       "      <th>88312</th>\n",
       "      <td>Poolians.com</td>\n",
       "      <td>[Casual, Free to Play, Indie, Simulation, Sports]</td>\n",
       "      <td>Real Pool 3D - Poolians</td>\n",
       "      <td>Real Pool 3D - Poolians</td>\n",
       "      <td>http://store.steampowered.com/app/670290/Real_...</td>\n",
       "      <td>2017-07-24</td>\n",
       "      <td>[Free to Play, Simulation, Sports, Casual, Ind...</td>\n",
       "      <td>http://steamcommunity.com/app/670290/reviews/?...</td>\n",
       "      <td>[Single-player, Multi-player, Online Multi-Pla...</td>\n",
       "      <td>Free to Play</td>\n",
       "      <td>False</td>\n",
       "      <td>670290</td>\n",
       "      <td>Poolians.com</td>\n",
       "    </tr>\n",
       "    <tr>\n",
       "      <th>88313</th>\n",
       "      <td>彼岸领域</td>\n",
       "      <td>[Action, Adventure, Casual]</td>\n",
       "      <td>弹炸人2222</td>\n",
       "      <td>弹炸人2222</td>\n",
       "      <td>http://store.steampowered.com/app/767400/2222/</td>\n",
       "      <td>2017-12-07</td>\n",
       "      <td>[Action, Adventure, Casual]</td>\n",
       "      <td>http://steamcommunity.com/app/767400/reviews/?...</td>\n",
       "      <td>[Single-player]</td>\n",
       "      <td>0.99</td>\n",
       "      <td>False</td>\n",
       "      <td>767400</td>\n",
       "      <td>彼岸领域</td>\n",
       "    </tr>\n",
       "    <tr>\n",
       "      <th>88315</th>\n",
       "      <td>Trickjump Games Ltd</td>\n",
       "      <td>[Action, Adventure, Simulation]</td>\n",
       "      <td>Battle Royale Trainer</td>\n",
       "      <td>Battle Royale Trainer</td>\n",
       "      <td>http://store.steampowered.com/app/772540/Battl...</td>\n",
       "      <td>2018-01-04</td>\n",
       "      <td>[Action, Adventure, Simulation, FPS, Shooter, ...</td>\n",
       "      <td>http://steamcommunity.com/app/772540/reviews/?...</td>\n",
       "      <td>[Single-player, Steam Achievements]</td>\n",
       "      <td>3.99</td>\n",
       "      <td>False</td>\n",
       "      <td>772540</td>\n",
       "      <td>Trickjump Games Ltd</td>\n",
       "    </tr>\n",
       "  </tbody>\n",
       "</table>\n",
       "</div>"
      ],
      "text/plain": [
       "                 publisher                                             genres   \n",
       "88310            Kotoshiro      [Action, Casual, Indie, Simulation, Strategy]  \\\n",
       "88311     Making Fun, Inc.               [Free to Play, Indie, RPG, Strategy]   \n",
       "88312         Poolians.com  [Casual, Free to Play, Indie, Simulation, Sports]   \n",
       "88313                 彼岸领域                        [Action, Adventure, Casual]   \n",
       "88315  Trickjump Games Ltd                    [Action, Adventure, Simulation]   \n",
       "\n",
       "                      app_name                    title   \n",
       "88310      Lost Summoner Kitty      Lost Summoner Kitty  \\\n",
       "88311                Ironbound                Ironbound   \n",
       "88312  Real Pool 3D - Poolians  Real Pool 3D - Poolians   \n",
       "88313                  弹炸人2222                  弹炸人2222   \n",
       "88315    Battle Royale Trainer    Battle Royale Trainer   \n",
       "\n",
       "                                                     url release_date   \n",
       "88310  http://store.steampowered.com/app/761140/Lost_...   2018-01-04  \\\n",
       "88311  http://store.steampowered.com/app/643980/Ironb...   2018-01-04   \n",
       "88312  http://store.steampowered.com/app/670290/Real_...   2017-07-24   \n",
       "88313     http://store.steampowered.com/app/767400/2222/   2017-12-07   \n",
       "88315  http://store.steampowered.com/app/772540/Battl...   2018-01-04   \n",
       "\n",
       "                                                    tags   \n",
       "88310      [Strategy, Action, Indie, Casual, Simulation]  \\\n",
       "88311  [Free to Play, Strategy, Indie, RPG, Card Game...   \n",
       "88312  [Free to Play, Simulation, Sports, Casual, Ind...   \n",
       "88313                        [Action, Adventure, Casual]   \n",
       "88315  [Action, Adventure, Simulation, FPS, Shooter, ...   \n",
       "\n",
       "                                             reviews_url   \n",
       "88310  http://steamcommunity.com/app/761140/reviews/?...  \\\n",
       "88311  http://steamcommunity.com/app/643980/reviews/?...   \n",
       "88312  http://steamcommunity.com/app/670290/reviews/?...   \n",
       "88313  http://steamcommunity.com/app/767400/reviews/?...   \n",
       "88315  http://steamcommunity.com/app/772540/reviews/?...   \n",
       "\n",
       "                                                   specs         price   \n",
       "88310                                    [Single-player]          4.99  \\\n",
       "88311  [Single-player, Multi-player, Online Multi-Pla...  Free To Play   \n",
       "88312  [Single-player, Multi-player, Online Multi-Pla...  Free to Play   \n",
       "88313                                    [Single-player]          0.99   \n",
       "88315                [Single-player, Steam Achievements]          3.99   \n",
       "\n",
       "      early_access      id            developer  \n",
       "88310        False  761140            Kotoshiro  \n",
       "88311        False  643980     Secret Level SRL  \n",
       "88312        False  670290         Poolians.com  \n",
       "88313        False  767400                 彼岸领域  \n",
       "88315        False  772540  Trickjump Games Ltd  "
      ]
     },
     "execution_count": 25,
     "metadata": {},
     "output_type": "execute_result"
    }
   ],
   "source": [
    "# Elimina filas y columnas que contienen valores nulos y actualiza el DataFrame\n",
    "df_steam_games_limpio = df_steam_games.dropna(axis=0, how='any').dropna(axis=1, how='any')\n",
    "\n",
    "# Muestra información sobre el DataFrame después de eliminar filas y columnas nulas\n",
    "print(\"Información del DataFrame después de eliminar filas y columnas nulas:\")\n",
    "print(df_steam_games_limpio.info())\n",
    "df_steam_games_limpio.head()"
   ]
  },
  {
   "cell_type": "code",
   "execution_count": 26,
   "metadata": {},
   "outputs": [
    {
     "data": {
      "text/html": [
       "<div>\n",
       "<style scoped>\n",
       "    .dataframe tbody tr th:only-of-type {\n",
       "        vertical-align: middle;\n",
       "    }\n",
       "\n",
       "    .dataframe tbody tr th {\n",
       "        vertical-align: top;\n",
       "    }\n",
       "\n",
       "    .dataframe thead th {\n",
       "        text-align: right;\n",
       "    }\n",
       "</style>\n",
       "<table border=\"1\" class=\"dataframe\">\n",
       "  <thead>\n",
       "    <tr style=\"text-align: right;\">\n",
       "      <th></th>\n",
       "      <th>publisher</th>\n",
       "      <th>genres</th>\n",
       "      <th>app_name</th>\n",
       "      <th>title</th>\n",
       "      <th>url</th>\n",
       "      <th>release_date</th>\n",
       "      <th>tags</th>\n",
       "      <th>reviews_url</th>\n",
       "      <th>specs</th>\n",
       "      <th>price</th>\n",
       "      <th>early_access</th>\n",
       "      <th>id</th>\n",
       "      <th>developer</th>\n",
       "    </tr>\n",
       "  </thead>\n",
       "  <tbody>\n",
       "    <tr>\n",
       "      <th>0</th>\n",
       "      <td>Kotoshiro</td>\n",
       "      <td>[Action, Casual, Indie, Simulation, Strategy]</td>\n",
       "      <td>Lost Summoner Kitty</td>\n",
       "      <td>Lost Summoner Kitty</td>\n",
       "      <td>http://store.steampowered.com/app/761140/Lost_...</td>\n",
       "      <td>2018-01-04</td>\n",
       "      <td>[Strategy, Action, Indie, Casual, Simulation]</td>\n",
       "      <td>http://steamcommunity.com/app/761140/reviews/?...</td>\n",
       "      <td>[Single-player]</td>\n",
       "      <td>4.99</td>\n",
       "      <td>False</td>\n",
       "      <td>761140</td>\n",
       "      <td>Kotoshiro</td>\n",
       "    </tr>\n",
       "    <tr>\n",
       "      <th>1</th>\n",
       "      <td>Making Fun, Inc.</td>\n",
       "      <td>[Free to Play, Indie, RPG, Strategy]</td>\n",
       "      <td>Ironbound</td>\n",
       "      <td>Ironbound</td>\n",
       "      <td>http://store.steampowered.com/app/643980/Ironb...</td>\n",
       "      <td>2018-01-04</td>\n",
       "      <td>[Free to Play, Strategy, Indie, RPG, Card Game...</td>\n",
       "      <td>http://steamcommunity.com/app/643980/reviews/?...</td>\n",
       "      <td>[Single-player, Multi-player, Online Multi-Pla...</td>\n",
       "      <td>Free To Play</td>\n",
       "      <td>False</td>\n",
       "      <td>643980</td>\n",
       "      <td>Secret Level SRL</td>\n",
       "    </tr>\n",
       "    <tr>\n",
       "      <th>2</th>\n",
       "      <td>Poolians.com</td>\n",
       "      <td>[Casual, Free to Play, Indie, Simulation, Sports]</td>\n",
       "      <td>Real Pool 3D - Poolians</td>\n",
       "      <td>Real Pool 3D - Poolians</td>\n",
       "      <td>http://store.steampowered.com/app/670290/Real_...</td>\n",
       "      <td>2017-07-24</td>\n",
       "      <td>[Free to Play, Simulation, Sports, Casual, Ind...</td>\n",
       "      <td>http://steamcommunity.com/app/670290/reviews/?...</td>\n",
       "      <td>[Single-player, Multi-player, Online Multi-Pla...</td>\n",
       "      <td>Free to Play</td>\n",
       "      <td>False</td>\n",
       "      <td>670290</td>\n",
       "      <td>Poolians.com</td>\n",
       "    </tr>\n",
       "    <tr>\n",
       "      <th>3</th>\n",
       "      <td>彼岸领域</td>\n",
       "      <td>[Action, Adventure, Casual]</td>\n",
       "      <td>弹炸人2222</td>\n",
       "      <td>弹炸人2222</td>\n",
       "      <td>http://store.steampowered.com/app/767400/2222/</td>\n",
       "      <td>2017-12-07</td>\n",
       "      <td>[Action, Adventure, Casual]</td>\n",
       "      <td>http://steamcommunity.com/app/767400/reviews/?...</td>\n",
       "      <td>[Single-player]</td>\n",
       "      <td>0.99</td>\n",
       "      <td>False</td>\n",
       "      <td>767400</td>\n",
       "      <td>彼岸领域</td>\n",
       "    </tr>\n",
       "    <tr>\n",
       "      <th>4</th>\n",
       "      <td>Trickjump Games Ltd</td>\n",
       "      <td>[Action, Adventure, Simulation]</td>\n",
       "      <td>Battle Royale Trainer</td>\n",
       "      <td>Battle Royale Trainer</td>\n",
       "      <td>http://store.steampowered.com/app/772540/Battl...</td>\n",
       "      <td>2018-01-04</td>\n",
       "      <td>[Action, Adventure, Simulation, FPS, Shooter, ...</td>\n",
       "      <td>http://steamcommunity.com/app/772540/reviews/?...</td>\n",
       "      <td>[Single-player, Steam Achievements]</td>\n",
       "      <td>3.99</td>\n",
       "      <td>False</td>\n",
       "      <td>772540</td>\n",
       "      <td>Trickjump Games Ltd</td>\n",
       "    </tr>\n",
       "  </tbody>\n",
       "</table>\n",
       "</div>"
      ],
      "text/plain": [
       "             publisher                                             genres   \n",
       "0            Kotoshiro      [Action, Casual, Indie, Simulation, Strategy]  \\\n",
       "1     Making Fun, Inc.               [Free to Play, Indie, RPG, Strategy]   \n",
       "2         Poolians.com  [Casual, Free to Play, Indie, Simulation, Sports]   \n",
       "3                 彼岸领域                        [Action, Adventure, Casual]   \n",
       "4  Trickjump Games Ltd                    [Action, Adventure, Simulation]   \n",
       "\n",
       "                  app_name                    title   \n",
       "0      Lost Summoner Kitty      Lost Summoner Kitty  \\\n",
       "1                Ironbound                Ironbound   \n",
       "2  Real Pool 3D - Poolians  Real Pool 3D - Poolians   \n",
       "3                  弹炸人2222                  弹炸人2222   \n",
       "4    Battle Royale Trainer    Battle Royale Trainer   \n",
       "\n",
       "                                                 url release_date   \n",
       "0  http://store.steampowered.com/app/761140/Lost_...   2018-01-04  \\\n",
       "1  http://store.steampowered.com/app/643980/Ironb...   2018-01-04   \n",
       "2  http://store.steampowered.com/app/670290/Real_...   2017-07-24   \n",
       "3     http://store.steampowered.com/app/767400/2222/   2017-12-07   \n",
       "4  http://store.steampowered.com/app/772540/Battl...   2018-01-04   \n",
       "\n",
       "                                                tags   \n",
       "0      [Strategy, Action, Indie, Casual, Simulation]  \\\n",
       "1  [Free to Play, Strategy, Indie, RPG, Card Game...   \n",
       "2  [Free to Play, Simulation, Sports, Casual, Ind...   \n",
       "3                        [Action, Adventure, Casual]   \n",
       "4  [Action, Adventure, Simulation, FPS, Shooter, ...   \n",
       "\n",
       "                                         reviews_url   \n",
       "0  http://steamcommunity.com/app/761140/reviews/?...  \\\n",
       "1  http://steamcommunity.com/app/643980/reviews/?...   \n",
       "2  http://steamcommunity.com/app/670290/reviews/?...   \n",
       "3  http://steamcommunity.com/app/767400/reviews/?...   \n",
       "4  http://steamcommunity.com/app/772540/reviews/?...   \n",
       "\n",
       "                                               specs         price   \n",
       "0                                    [Single-player]          4.99  \\\n",
       "1  [Single-player, Multi-player, Online Multi-Pla...  Free To Play   \n",
       "2  [Single-player, Multi-player, Online Multi-Pla...  Free to Play   \n",
       "3                                    [Single-player]          0.99   \n",
       "4                [Single-player, Steam Achievements]          3.99   \n",
       "\n",
       "  early_access      id            developer  \n",
       "0        False  761140            Kotoshiro  \n",
       "1        False  643980     Secret Level SRL  \n",
       "2        False  670290         Poolians.com  \n",
       "3        False  767400                 彼岸领域  \n",
       "4        False  772540  Trickjump Games Ltd  "
      ]
     },
     "execution_count": 26,
     "metadata": {},
     "output_type": "execute_result"
    }
   ],
   "source": [
    "# Reiniciamos los índices del DataFrame \n",
    "df_steam_games_limpio = df_steam_games_limpio.reset_index(drop=True)\n",
    "\n",
    "df_steam_games_limpio.head()"
   ]
  },
  {
   "cell_type": "code",
   "execution_count": 35,
   "metadata": {},
   "outputs": [],
   "source": [
    "# Eliminamos columnas innecesarias \n",
    "\n",
    "columnas_a_eliminar=['url','publisher','tags','reviews_url','specs','early_access']\n",
    "steam_games_final=df_steam_games_limpio.drop(columns=columnas_a_eliminar)"
   ]
  },
  {
   "cell_type": "code",
   "execution_count": 36,
   "metadata": {},
   "outputs": [
    {
     "name": "stdout",
     "output_type": "stream",
     "text": [
      "<class 'pandas.core.frame.DataFrame'>\n",
      "RangeIndex: 22530 entries, 0 to 22529\n",
      "Data columns (total 7 columns):\n",
      " #   Column        Non-Null Count  Dtype \n",
      "---  ------        --------------  ----- \n",
      " 0   genres        22530 non-null  object\n",
      " 1   app_name      22530 non-null  object\n",
      " 2   title         22530 non-null  object\n",
      " 3   release_date  22530 non-null  object\n",
      " 4   price         22530 non-null  object\n",
      " 5   id            22530 non-null  object\n",
      " 6   developer     22530 non-null  object\n",
      "dtypes: object(7)\n",
      "memory usage: 1.2+ MB\n",
      "None\n"
     ]
    }
   ],
   "source": [
    "print(steam_games_final.info())"
   ]
  },
  {
   "cell_type": "code",
   "execution_count": 37,
   "metadata": {},
   "outputs": [
    {
     "data": {
      "text/html": [
       "<div>\n",
       "<style scoped>\n",
       "    .dataframe tbody tr th:only-of-type {\n",
       "        vertical-align: middle;\n",
       "    }\n",
       "\n",
       "    .dataframe tbody tr th {\n",
       "        vertical-align: top;\n",
       "    }\n",
       "\n",
       "    .dataframe thead th {\n",
       "        text-align: right;\n",
       "    }\n",
       "</style>\n",
       "<table border=\"1\" class=\"dataframe\">\n",
       "  <thead>\n",
       "    <tr style=\"text-align: right;\">\n",
       "      <th></th>\n",
       "      <th>genero</th>\n",
       "      <th>app_name</th>\n",
       "      <th>titulo</th>\n",
       "      <th>anio_lanzamiento</th>\n",
       "      <th>precio</th>\n",
       "      <th>id_contenido</th>\n",
       "      <th>desarrollador</th>\n",
       "    </tr>\n",
       "  </thead>\n",
       "  <tbody>\n",
       "    <tr>\n",
       "      <th>0</th>\n",
       "      <td>[Action, Casual, Indie, Simulation, Strategy]</td>\n",
       "      <td>Lost Summoner Kitty</td>\n",
       "      <td>Lost Summoner Kitty</td>\n",
       "      <td>2018-01-04</td>\n",
       "      <td>4.99</td>\n",
       "      <td>761140</td>\n",
       "      <td>Kotoshiro</td>\n",
       "    </tr>\n",
       "    <tr>\n",
       "      <th>1</th>\n",
       "      <td>[Free to Play, Indie, RPG, Strategy]</td>\n",
       "      <td>Ironbound</td>\n",
       "      <td>Ironbound</td>\n",
       "      <td>2018-01-04</td>\n",
       "      <td>Free To Play</td>\n",
       "      <td>643980</td>\n",
       "      <td>Secret Level SRL</td>\n",
       "    </tr>\n",
       "    <tr>\n",
       "      <th>2</th>\n",
       "      <td>[Casual, Free to Play, Indie, Simulation, Sports]</td>\n",
       "      <td>Real Pool 3D - Poolians</td>\n",
       "      <td>Real Pool 3D - Poolians</td>\n",
       "      <td>2017-07-24</td>\n",
       "      <td>Free to Play</td>\n",
       "      <td>670290</td>\n",
       "      <td>Poolians.com</td>\n",
       "    </tr>\n",
       "    <tr>\n",
       "      <th>3</th>\n",
       "      <td>[Action, Adventure, Casual]</td>\n",
       "      <td>弹炸人2222</td>\n",
       "      <td>弹炸人2222</td>\n",
       "      <td>2017-12-07</td>\n",
       "      <td>0.99</td>\n",
       "      <td>767400</td>\n",
       "      <td>彼岸领域</td>\n",
       "    </tr>\n",
       "    <tr>\n",
       "      <th>4</th>\n",
       "      <td>[Action, Adventure, Simulation]</td>\n",
       "      <td>Battle Royale Trainer</td>\n",
       "      <td>Battle Royale Trainer</td>\n",
       "      <td>2018-01-04</td>\n",
       "      <td>3.99</td>\n",
       "      <td>772540</td>\n",
       "      <td>Trickjump Games Ltd</td>\n",
       "    </tr>\n",
       "  </tbody>\n",
       "</table>\n",
       "</div>"
      ],
      "text/plain": [
       "                                              genero                 app_name   \n",
       "0      [Action, Casual, Indie, Simulation, Strategy]      Lost Summoner Kitty  \\\n",
       "1               [Free to Play, Indie, RPG, Strategy]                Ironbound   \n",
       "2  [Casual, Free to Play, Indie, Simulation, Sports]  Real Pool 3D - Poolians   \n",
       "3                        [Action, Adventure, Casual]                  弹炸人2222   \n",
       "4                    [Action, Adventure, Simulation]    Battle Royale Trainer   \n",
       "\n",
       "                    titulo anio_lanzamiento        precio id_contenido   \n",
       "0      Lost Summoner Kitty       2018-01-04          4.99       761140  \\\n",
       "1                Ironbound       2018-01-04  Free To Play       643980   \n",
       "2  Real Pool 3D - Poolians       2017-07-24  Free to Play       670290   \n",
       "3                  弹炸人2222       2017-12-07          0.99       767400   \n",
       "4    Battle Royale Trainer       2018-01-04          3.99       772540   \n",
       "\n",
       "         desarrollador  \n",
       "0            Kotoshiro  \n",
       "1     Secret Level SRL  \n",
       "2         Poolians.com  \n",
       "3                 彼岸领域  \n",
       "4  Trickjump Games Ltd  "
      ]
     },
     "execution_count": 37,
     "metadata": {},
     "output_type": "execute_result"
    }
   ],
   "source": [
    "#Renombrar Columnas: decidí colocar todas los titulos de las columnas en español para que sea mas amigable al momento de usar la api\n",
    "\n",
    "titulos_nuevos={'genres':'genero','title':'titulo','release_date':'anio_lanzamiento','price':'precio','id':'id_contenido','developer':'desarrollador'}\n",
    "df_steam_nuevo=steam_games_final.rename(columns=titulos_nuevos)\n",
    "\n",
    "df_steam_nuevo.head()"
   ]
  },
  {
   "cell_type": "code",
   "execution_count": 38,
   "metadata": {},
   "outputs": [
    {
     "data": {
      "text/html": [
       "<div>\n",
       "<style scoped>\n",
       "    .dataframe tbody tr th:only-of-type {\n",
       "        vertical-align: middle;\n",
       "    }\n",
       "\n",
       "    .dataframe tbody tr th {\n",
       "        vertical-align: top;\n",
       "    }\n",
       "\n",
       "    .dataframe thead th {\n",
       "        text-align: right;\n",
       "    }\n",
       "</style>\n",
       "<table border=\"1\" class=\"dataframe\">\n",
       "  <thead>\n",
       "    <tr style=\"text-align: right;\">\n",
       "      <th></th>\n",
       "      <th>genero</th>\n",
       "      <th>app_name</th>\n",
       "      <th>titulo</th>\n",
       "      <th>anio_lanzamiento</th>\n",
       "      <th>precio</th>\n",
       "      <th>id_contenido</th>\n",
       "      <th>desarrollador</th>\n",
       "    </tr>\n",
       "  </thead>\n",
       "  <tbody>\n",
       "    <tr>\n",
       "      <th>0</th>\n",
       "      <td>[Action, Casual, Indie, Simulation, Strategy]</td>\n",
       "      <td>Lost Summoner Kitty</td>\n",
       "      <td>Lost Summoner Kitty</td>\n",
       "      <td>2018</td>\n",
       "      <td>4.99</td>\n",
       "      <td>761140</td>\n",
       "      <td>Kotoshiro</td>\n",
       "    </tr>\n",
       "    <tr>\n",
       "      <th>1</th>\n",
       "      <td>[Free to Play, Indie, RPG, Strategy]</td>\n",
       "      <td>Ironbound</td>\n",
       "      <td>Ironbound</td>\n",
       "      <td>2018</td>\n",
       "      <td>Free To Play</td>\n",
       "      <td>643980</td>\n",
       "      <td>Secret Level SRL</td>\n",
       "    </tr>\n",
       "    <tr>\n",
       "      <th>2</th>\n",
       "      <td>[Casual, Free to Play, Indie, Simulation, Sports]</td>\n",
       "      <td>Real Pool 3D - Poolians</td>\n",
       "      <td>Real Pool 3D - Poolians</td>\n",
       "      <td>2017</td>\n",
       "      <td>Free to Play</td>\n",
       "      <td>670290</td>\n",
       "      <td>Poolians.com</td>\n",
       "    </tr>\n",
       "    <tr>\n",
       "      <th>3</th>\n",
       "      <td>[Action, Adventure, Casual]</td>\n",
       "      <td>弹炸人2222</td>\n",
       "      <td>弹炸人2222</td>\n",
       "      <td>2017</td>\n",
       "      <td>0.99</td>\n",
       "      <td>767400</td>\n",
       "      <td>彼岸领域</td>\n",
       "    </tr>\n",
       "    <tr>\n",
       "      <th>4</th>\n",
       "      <td>[Action, Adventure, Simulation]</td>\n",
       "      <td>Battle Royale Trainer</td>\n",
       "      <td>Battle Royale Trainer</td>\n",
       "      <td>2018</td>\n",
       "      <td>3.99</td>\n",
       "      <td>772540</td>\n",
       "      <td>Trickjump Games Ltd</td>\n",
       "    </tr>\n",
       "  </tbody>\n",
       "</table>\n",
       "</div>"
      ],
      "text/plain": [
       "                                              genero                 app_name   \n",
       "0      [Action, Casual, Indie, Simulation, Strategy]      Lost Summoner Kitty  \\\n",
       "1               [Free to Play, Indie, RPG, Strategy]                Ironbound   \n",
       "2  [Casual, Free to Play, Indie, Simulation, Sports]  Real Pool 3D - Poolians   \n",
       "3                        [Action, Adventure, Casual]                  弹炸人2222   \n",
       "4                    [Action, Adventure, Simulation]    Battle Royale Trainer   \n",
       "\n",
       "                    titulo anio_lanzamiento        precio id_contenido   \n",
       "0      Lost Summoner Kitty             2018          4.99       761140  \\\n",
       "1                Ironbound             2018  Free To Play       643980   \n",
       "2  Real Pool 3D - Poolians             2017  Free to Play       670290   \n",
       "3                  弹炸人2222             2017          0.99       767400   \n",
       "4    Battle Royale Trainer             2018          3.99       772540   \n",
       "\n",
       "         desarrollador  \n",
       "0            Kotoshiro  \n",
       "1     Secret Level SRL  \n",
       "2         Poolians.com  \n",
       "3                 彼岸领域  \n",
       "4  Trickjump Games Ltd  "
      ]
     },
     "execution_count": 38,
     "metadata": {},
     "output_type": "execute_result"
    }
   ],
   "source": [
    "#modificamos  columna anio_lanzamiento para  dejar solo el añio\n",
    "# Convertimos  la columna 'fecha' a formato datetime, intentando manejar diferentes formatos\n",
    "df_steam_nuevo['anio_lanzamiento'] = pd.to_datetime(df_steam_nuevo['anio_lanzamiento'],errors='coerce')\n",
    "\n",
    "# Extraemos el anio convirtiendo la serie resultante a formato de texto\n",
    "df_steam_nuevo['anio_lanzamiento'] = df_steam_nuevo['anio_lanzamiento'].dt.strftime('%Y')\n",
    "\n",
    "# Muestra el DataFrame después de modificar la columna 'fecha'\n",
    "df_steam_nuevo.head()\n"
   ]
  },
  {
   "cell_type": "code",
   "execution_count": 39,
   "metadata": {},
   "outputs": [
    {
     "name": "stdout",
     "output_type": "stream",
     "text": [
      "0        4.99\n",
      "1        0.00\n",
      "2        0.00\n",
      "3        0.99\n",
      "4        3.99\n",
      "         ... \n",
      "22525    1.99\n",
      "22526    1.99\n",
      "22527    4.99\n",
      "22528    1.99\n",
      "22529    4.99\n",
      "Name: precio, Length: 22530, dtype: float64\n",
      "\n"
     ]
    }
   ],
   "source": [
    "## se verificaron que en la columna precio había otros formatos como ejemplo  Free to Use, Free to Play] por 0.00\n",
    "\n",
    "df_steam_nuevo['precio']=pd.to_numeric(df_steam_nuevo['precio'],errors='coerce')\n",
    "# Reemplazar los valores no numéricos por 0.00\n",
    "df_steam_nuevo['precio'].fillna(0.00, inplace=True)\n",
    "print(df_steam_nuevo['precio'])\n",
    "print()"
   ]
  },
  {
   "cell_type": "code",
   "execution_count": 40,
   "metadata": {},
   "outputs": [
    {
     "name": "stdout",
     "output_type": "stream",
     "text": [
      "         genero                          app_name   \n",
      "9654   [Action]  Wolfenstein II: The New Colossus  \\\n",
      "10102  [Action]  Wolfenstein II: The New Colossus   \n",
      "\n",
      "                                 titulo anio_lanzamiento  precio id_contenido   \n",
      "9654   Wolfenstein II: The New Colossus             2017   59.99       612880  \\\n",
      "10102  Wolfenstein II: The New Colossus             2017   59.99       612880   \n",
      "\n",
      "       desarrollador  \n",
      "9654   Machine Games  \n",
      "10102  Machine Games  \n"
     ]
    }
   ],
   "source": [
    "## revision de duplicados \n",
    "\n",
    "# Verificar duplicados en la columna 'id'\n",
    "duplicates_id = df_steam_nuevo.duplicated(subset=['id_contenido'], keep=False)\n",
    "\n",
    "# Filtrar el DataFrame para mostrar solo las filas duplicadas en 'id'\n",
    "duplicated_rows = df_steam_nuevo[duplicates_id]\n",
    "\n",
    "print(duplicated_rows)\n"
   ]
  },
  {
   "cell_type": "code",
   "execution_count": 41,
   "metadata": {},
   "outputs": [
    {
     "name": "stdout",
     "output_type": "stream",
     "text": [
      "                                                  genero   \n",
      "0          [Action, Casual, Indie, Simulation, Strategy]  \\\n",
      "1                   [Free to Play, Indie, RPG, Strategy]   \n",
      "2      [Casual, Free to Play, Indie, Simulation, Sports]   \n",
      "3                            [Action, Adventure, Casual]   \n",
      "4                        [Action, Adventure, Simulation]   \n",
      "...                                                  ...   \n",
      "22525                 [Action, Adventure, Casual, Indie]   \n",
      "22526              [Casual, Indie, Simulation, Strategy]   \n",
      "22527                          [Casual, Indie, Strategy]   \n",
      "22528                        [Indie, Racing, Simulation]   \n",
      "22529                                    [Casual, Indie]   \n",
      "\n",
      "                       app_name                    titulo anio_lanzamiento   \n",
      "0           Lost Summoner Kitty       Lost Summoner Kitty             2018  \\\n",
      "1                     Ironbound                 Ironbound             2018   \n",
      "2       Real Pool 3D - Poolians   Real Pool 3D - Poolians             2017   \n",
      "3                       弹炸人2222                   弹炸人2222             2017   \n",
      "4         Battle Royale Trainer     Battle Royale Trainer             2018   \n",
      "...                         ...                       ...              ...   \n",
      "22525              Kebab it Up!              Kebab it Up!             2018   \n",
      "22526            Colony On Mars            Colony On Mars             2018   \n",
      "22527  LOGistICAL: South Africa  LOGistICAL: South Africa             2018   \n",
      "22528             Russian Roads             Russian Roads             2018   \n",
      "22529       EXIT 2 - Directions       EXIT 2 - Directions             2017   \n",
      "\n",
      "       precio id_contenido             desarrollador  \n",
      "0        4.99       761140                 Kotoshiro  \n",
      "1        0.00       643980          Secret Level SRL  \n",
      "2        0.00       670290              Poolians.com  \n",
      "3        0.99       767400                      彼岸领域  \n",
      "4        3.99       772540       Trickjump Games Ltd  \n",
      "...       ...          ...                       ...  \n",
      "22525    1.99       745400           Bidoniera Games  \n",
      "22526    1.99       773640        Nikita \"Ghost_RUS\"  \n",
      "22527    4.99       733530                    Sacada  \n",
      "22528    1.99       610660  Laush Dmitriy Sergeevich  \n",
      "22529    4.99       658870             xropi,stev3ns  \n",
      "\n",
      "[22529 rows x 7 columns]\n"
     ]
    }
   ],
   "source": [
    "# Eliminar filas duplicadas en la columna 'id'\n",
    "df_sin_duplicados = df_steam_nuevo.drop_duplicates(subset=['id_contenido'])\n",
    "\n",
    "print(df_sin_duplicados)"
   ]
  },
  {
   "cell_type": "code",
   "execution_count": 42,
   "metadata": {},
   "outputs": [],
   "source": [
    "#Guardamos el dataframe en formato csv para su posterior uso\n",
    "\n",
    "df_sin_duplicados.to_csv('steam_games.csv', index=False)"
   ]
  }
 ],
 "metadata": {
  "kernelspec": {
   "display_name": "Python 3",
   "language": "python",
   "name": "python3"
  },
  "language_info": {
   "codemirror_mode": {
    "name": "ipython",
    "version": 3
   },
   "file_extension": ".py",
   "mimetype": "text/x-python",
   "name": "python",
   "nbconvert_exporter": "python",
   "pygments_lexer": "ipython3",
   "version": "3.11.0"
  }
 },
 "nbformat": 4,
 "nbformat_minor": 2
}
